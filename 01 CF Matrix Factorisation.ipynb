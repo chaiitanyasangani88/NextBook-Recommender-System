{
 "cells": [
  {
   "cell_type": "code",
   "execution_count": 1,
   "metadata": {},
   "outputs": [],
   "source": [
    "import pandas as pd\n",
    "import numpy as np\n",
    "import matplotlib.pyplot as plt\n",
    "\n",
    "%matplotlib inline"
   ]
  },
  {
   "cell_type": "code",
   "execution_count": 2,
   "metadata": {},
   "outputs": [],
   "source": [
    "import implicit\n",
    "\n",
    "import sys\n",
    "import scipy.sparse as sparse\n",
    "from scipy.sparse.linalg import spsolve\n",
    "import random\n",
    "\n",
    "from sklearn.preprocessing import MinMaxScaler"
   ]
  },
  {
   "cell_type": "markdown",
   "metadata": {},
   "source": [
    "## Ratings Data"
   ]
  },
  {
   "cell_type": "code",
   "execution_count": 3,
   "metadata": {},
   "outputs": [],
   "source": [
    "book_ratings = pd.read_csv('goodbooks-10k-master/ratings.csv')"
   ]
  },
  {
   "cell_type": "code",
   "execution_count": 4,
   "metadata": {},
   "outputs": [
    {
     "data": {
      "text/html": [
       "<div>\n",
       "<style scoped>\n",
       "    .dataframe tbody tr th:only-of-type {\n",
       "        vertical-align: middle;\n",
       "    }\n",
       "\n",
       "    .dataframe tbody tr th {\n",
       "        vertical-align: top;\n",
       "    }\n",
       "\n",
       "    .dataframe thead th {\n",
       "        text-align: right;\n",
       "    }\n",
       "</style>\n",
       "<table border=\"1\" class=\"dataframe\">\n",
       "  <thead>\n",
       "    <tr style=\"text-align: right;\">\n",
       "      <th></th>\n",
       "      <th>user_id</th>\n",
       "      <th>book_id</th>\n",
       "      <th>rating</th>\n",
       "    </tr>\n",
       "  </thead>\n",
       "  <tbody>\n",
       "    <tr>\n",
       "      <th>0</th>\n",
       "      <td>1</td>\n",
       "      <td>258</td>\n",
       "      <td>5</td>\n",
       "    </tr>\n",
       "    <tr>\n",
       "      <th>1</th>\n",
       "      <td>2</td>\n",
       "      <td>4081</td>\n",
       "      <td>4</td>\n",
       "    </tr>\n",
       "    <tr>\n",
       "      <th>2</th>\n",
       "      <td>2</td>\n",
       "      <td>260</td>\n",
       "      <td>5</td>\n",
       "    </tr>\n",
       "    <tr>\n",
       "      <th>3</th>\n",
       "      <td>2</td>\n",
       "      <td>9296</td>\n",
       "      <td>5</td>\n",
       "    </tr>\n",
       "    <tr>\n",
       "      <th>4</th>\n",
       "      <td>2</td>\n",
       "      <td>2318</td>\n",
       "      <td>3</td>\n",
       "    </tr>\n",
       "  </tbody>\n",
       "</table>\n",
       "</div>"
      ],
      "text/plain": [
       "   user_id  book_id  rating\n",
       "0        1      258       5\n",
       "1        2     4081       4\n",
       "2        2      260       5\n",
       "3        2     9296       5\n",
       "4        2     2318       3"
      ]
     },
     "execution_count": 4,
     "metadata": {},
     "output_type": "execute_result"
    }
   ],
   "source": [
    "book_ratings.head()"
   ]
  },
  {
   "cell_type": "code",
   "execution_count": 5,
   "metadata": {},
   "outputs": [],
   "source": [
    "books_data = pd.read_csv('goodbooks-10k-master/books.csv') # Book details data"
   ]
  },
  {
   "cell_type": "code",
   "execution_count": 6,
   "metadata": {},
   "outputs": [
    {
     "data": {
      "text/html": [
       "<div>\n",
       "<style scoped>\n",
       "    .dataframe tbody tr th:only-of-type {\n",
       "        vertical-align: middle;\n",
       "    }\n",
       "\n",
       "    .dataframe tbody tr th {\n",
       "        vertical-align: top;\n",
       "    }\n",
       "\n",
       "    .dataframe thead th {\n",
       "        text-align: right;\n",
       "    }\n",
       "</style>\n",
       "<table border=\"1\" class=\"dataframe\">\n",
       "  <thead>\n",
       "    <tr style=\"text-align: right;\">\n",
       "      <th></th>\n",
       "      <th>book_id</th>\n",
       "      <th>goodreads_book_id</th>\n",
       "      <th>best_book_id</th>\n",
       "      <th>work_id</th>\n",
       "      <th>books_count</th>\n",
       "      <th>isbn</th>\n",
       "      <th>isbn13</th>\n",
       "      <th>authors</th>\n",
       "      <th>original_publication_year</th>\n",
       "      <th>original_title</th>\n",
       "      <th>...</th>\n",
       "      <th>ratings_count</th>\n",
       "      <th>work_ratings_count</th>\n",
       "      <th>work_text_reviews_count</th>\n",
       "      <th>ratings_1</th>\n",
       "      <th>ratings_2</th>\n",
       "      <th>ratings_3</th>\n",
       "      <th>ratings_4</th>\n",
       "      <th>ratings_5</th>\n",
       "      <th>image_url</th>\n",
       "      <th>small_image_url</th>\n",
       "    </tr>\n",
       "  </thead>\n",
       "  <tbody>\n",
       "    <tr>\n",
       "      <th>0</th>\n",
       "      <td>1</td>\n",
       "      <td>2767052</td>\n",
       "      <td>2767052</td>\n",
       "      <td>2792775</td>\n",
       "      <td>272</td>\n",
       "      <td>439023483</td>\n",
       "      <td>9.780439e+12</td>\n",
       "      <td>Suzanne Collins</td>\n",
       "      <td>2008.0</td>\n",
       "      <td>The Hunger Games</td>\n",
       "      <td>...</td>\n",
       "      <td>4780653</td>\n",
       "      <td>4942365</td>\n",
       "      <td>155254</td>\n",
       "      <td>66715</td>\n",
       "      <td>127936</td>\n",
       "      <td>560092</td>\n",
       "      <td>1481305</td>\n",
       "      <td>2706317</td>\n",
       "      <td>https://images.gr-assets.com/books/1447303603m...</td>\n",
       "      <td>https://images.gr-assets.com/books/1447303603s...</td>\n",
       "    </tr>\n",
       "    <tr>\n",
       "      <th>1</th>\n",
       "      <td>2</td>\n",
       "      <td>3</td>\n",
       "      <td>3</td>\n",
       "      <td>4640799</td>\n",
       "      <td>491</td>\n",
       "      <td>439554934</td>\n",
       "      <td>9.780440e+12</td>\n",
       "      <td>J.K. Rowling, Mary GrandPré</td>\n",
       "      <td>1997.0</td>\n",
       "      <td>Harry Potter and the Philosopher's Stone</td>\n",
       "      <td>...</td>\n",
       "      <td>4602479</td>\n",
       "      <td>4800065</td>\n",
       "      <td>75867</td>\n",
       "      <td>75504</td>\n",
       "      <td>101676</td>\n",
       "      <td>455024</td>\n",
       "      <td>1156318</td>\n",
       "      <td>3011543</td>\n",
       "      <td>https://images.gr-assets.com/books/1474154022m...</td>\n",
       "      <td>https://images.gr-assets.com/books/1474154022s...</td>\n",
       "    </tr>\n",
       "    <tr>\n",
       "      <th>2</th>\n",
       "      <td>3</td>\n",
       "      <td>41865</td>\n",
       "      <td>41865</td>\n",
       "      <td>3212258</td>\n",
       "      <td>226</td>\n",
       "      <td>316015849</td>\n",
       "      <td>9.780316e+12</td>\n",
       "      <td>Stephenie Meyer</td>\n",
       "      <td>2005.0</td>\n",
       "      <td>Twilight</td>\n",
       "      <td>...</td>\n",
       "      <td>3866839</td>\n",
       "      <td>3916824</td>\n",
       "      <td>95009</td>\n",
       "      <td>456191</td>\n",
       "      <td>436802</td>\n",
       "      <td>793319</td>\n",
       "      <td>875073</td>\n",
       "      <td>1355439</td>\n",
       "      <td>https://images.gr-assets.com/books/1361039443m...</td>\n",
       "      <td>https://images.gr-assets.com/books/1361039443s...</td>\n",
       "    </tr>\n",
       "    <tr>\n",
       "      <th>3</th>\n",
       "      <td>4</td>\n",
       "      <td>2657</td>\n",
       "      <td>2657</td>\n",
       "      <td>3275794</td>\n",
       "      <td>487</td>\n",
       "      <td>61120081</td>\n",
       "      <td>9.780061e+12</td>\n",
       "      <td>Harper Lee</td>\n",
       "      <td>1960.0</td>\n",
       "      <td>To Kill a Mockingbird</td>\n",
       "      <td>...</td>\n",
       "      <td>3198671</td>\n",
       "      <td>3340896</td>\n",
       "      <td>72586</td>\n",
       "      <td>60427</td>\n",
       "      <td>117415</td>\n",
       "      <td>446835</td>\n",
       "      <td>1001952</td>\n",
       "      <td>1714267</td>\n",
       "      <td>https://images.gr-assets.com/books/1361975680m...</td>\n",
       "      <td>https://images.gr-assets.com/books/1361975680s...</td>\n",
       "    </tr>\n",
       "    <tr>\n",
       "      <th>4</th>\n",
       "      <td>5</td>\n",
       "      <td>4671</td>\n",
       "      <td>4671</td>\n",
       "      <td>245494</td>\n",
       "      <td>1356</td>\n",
       "      <td>743273567</td>\n",
       "      <td>9.780743e+12</td>\n",
       "      <td>F. Scott Fitzgerald</td>\n",
       "      <td>1925.0</td>\n",
       "      <td>The Great Gatsby</td>\n",
       "      <td>...</td>\n",
       "      <td>2683664</td>\n",
       "      <td>2773745</td>\n",
       "      <td>51992</td>\n",
       "      <td>86236</td>\n",
       "      <td>197621</td>\n",
       "      <td>606158</td>\n",
       "      <td>936012</td>\n",
       "      <td>947718</td>\n",
       "      <td>https://images.gr-assets.com/books/1490528560m...</td>\n",
       "      <td>https://images.gr-assets.com/books/1490528560s...</td>\n",
       "    </tr>\n",
       "  </tbody>\n",
       "</table>\n",
       "<p>5 rows × 23 columns</p>\n",
       "</div>"
      ],
      "text/plain": [
       "   book_id  goodreads_book_id  best_book_id  work_id  books_count       isbn  \\\n",
       "0        1            2767052       2767052  2792775          272  439023483   \n",
       "1        2                  3             3  4640799          491  439554934   \n",
       "2        3              41865         41865  3212258          226  316015849   \n",
       "3        4               2657          2657  3275794          487   61120081   \n",
       "4        5               4671          4671   245494         1356  743273567   \n",
       "\n",
       "         isbn13                      authors  original_publication_year  \\\n",
       "0  9.780439e+12              Suzanne Collins                     2008.0   \n",
       "1  9.780440e+12  J.K. Rowling, Mary GrandPré                     1997.0   \n",
       "2  9.780316e+12              Stephenie Meyer                     2005.0   \n",
       "3  9.780061e+12                   Harper Lee                     1960.0   \n",
       "4  9.780743e+12          F. Scott Fitzgerald                     1925.0   \n",
       "\n",
       "                             original_title  \\\n",
       "0                          The Hunger Games   \n",
       "1  Harry Potter and the Philosopher's Stone   \n",
       "2                                  Twilight   \n",
       "3                     To Kill a Mockingbird   \n",
       "4                          The Great Gatsby   \n",
       "\n",
       "                         ...                         ratings_count  \\\n",
       "0                        ...                               4780653   \n",
       "1                        ...                               4602479   \n",
       "2                        ...                               3866839   \n",
       "3                        ...                               3198671   \n",
       "4                        ...                               2683664   \n",
       "\n",
       "  work_ratings_count  work_text_reviews_count  ratings_1  ratings_2  \\\n",
       "0            4942365                   155254      66715     127936   \n",
       "1            4800065                    75867      75504     101676   \n",
       "2            3916824                    95009     456191     436802   \n",
       "3            3340896                    72586      60427     117415   \n",
       "4            2773745                    51992      86236     197621   \n",
       "\n",
       "   ratings_3  ratings_4  ratings_5  \\\n",
       "0     560092    1481305    2706317   \n",
       "1     455024    1156318    3011543   \n",
       "2     793319     875073    1355439   \n",
       "3     446835    1001952    1714267   \n",
       "4     606158     936012     947718   \n",
       "\n",
       "                                           image_url  \\\n",
       "0  https://images.gr-assets.com/books/1447303603m...   \n",
       "1  https://images.gr-assets.com/books/1474154022m...   \n",
       "2  https://images.gr-assets.com/books/1361039443m...   \n",
       "3  https://images.gr-assets.com/books/1361975680m...   \n",
       "4  https://images.gr-assets.com/books/1490528560m...   \n",
       "\n",
       "                                     small_image_url  \n",
       "0  https://images.gr-assets.com/books/1447303603s...  \n",
       "1  https://images.gr-assets.com/books/1474154022s...  \n",
       "2  https://images.gr-assets.com/books/1361039443s...  \n",
       "3  https://images.gr-assets.com/books/1361975680s...  \n",
       "4  https://images.gr-assets.com/books/1490528560s...  \n",
       "\n",
       "[5 rows x 23 columns]"
      ]
     },
     "execution_count": 6,
     "metadata": {},
     "output_type": "execute_result"
    }
   ],
   "source": [
    "books_data.head()"
   ]
  },
  {
   "cell_type": "code",
   "execution_count": 7,
   "metadata": {},
   "outputs": [],
   "source": [
    "book_id_mapping = books_data[['book_id', 'title']]"
   ]
  },
  {
   "cell_type": "code",
   "execution_count": 8,
   "metadata": {},
   "outputs": [],
   "source": [
    "book_id_mapping.index = book_id_mapping.book_id"
   ]
  },
  {
   "cell_type": "code",
   "execution_count": 9,
   "metadata": {},
   "outputs": [],
   "source": [
    "book_id_mapping = book_id_mapping.drop('book_id', axis=1)"
   ]
  },
  {
   "cell_type": "code",
   "execution_count": 10,
   "metadata": {},
   "outputs": [],
   "source": [
    "book_id_dict = book_id_mapping.to_dict(orient='index')"
   ]
  },
  {
   "cell_type": "code",
   "execution_count": 14,
   "metadata": {},
   "outputs": [
    {
     "data": {
      "text/plain": [
       "{'title': 'Pride and Prejudice'}"
      ]
     },
     "execution_count": 14,
     "metadata": {},
     "output_type": "execute_result"
    }
   ],
   "source": [
    "book_id_dict[10]"
   ]
  },
  {
   "cell_type": "code",
   "execution_count": 15,
   "metadata": {},
   "outputs": [
    {
     "data": {
      "text/html": [
       "<div>\n",
       "<style scoped>\n",
       "    .dataframe tbody tr th:only-of-type {\n",
       "        vertical-align: middle;\n",
       "    }\n",
       "\n",
       "    .dataframe tbody tr th {\n",
       "        vertical-align: top;\n",
       "    }\n",
       "\n",
       "    .dataframe thead th {\n",
       "        text-align: right;\n",
       "    }\n",
       "</style>\n",
       "<table border=\"1\" class=\"dataframe\">\n",
       "  <thead>\n",
       "    <tr style=\"text-align: right;\">\n",
       "      <th></th>\n",
       "      <th>2</th>\n",
       "      <th>4233</th>\n",
       "      <th>7046</th>\n",
       "      <th>8353</th>\n",
       "    </tr>\n",
       "  </thead>\n",
       "  <tbody>\n",
       "    <tr>\n",
       "      <th>book_id</th>\n",
       "      <td>3</td>\n",
       "      <td>4234</td>\n",
       "      <td>7047</td>\n",
       "      <td>8354</td>\n",
       "    </tr>\n",
       "    <tr>\n",
       "      <th>goodreads_book_id</th>\n",
       "      <td>41865</td>\n",
       "      <td>93724</td>\n",
       "      <td>32453</td>\n",
       "      <td>252938</td>\n",
       "    </tr>\n",
       "    <tr>\n",
       "      <th>best_book_id</th>\n",
       "      <td>41865</td>\n",
       "      <td>93724</td>\n",
       "      <td>32453</td>\n",
       "      <td>252938</td>\n",
       "    </tr>\n",
       "    <tr>\n",
       "      <th>work_id</th>\n",
       "      <td>3212258</td>\n",
       "      <td>2349900</td>\n",
       "      <td>1049922</td>\n",
       "      <td>245106</td>\n",
       "    </tr>\n",
       "    <tr>\n",
       "      <th>books_count</th>\n",
       "      <td>226</td>\n",
       "      <td>38</td>\n",
       "      <td>62</td>\n",
       "      <td>41</td>\n",
       "    </tr>\n",
       "    <tr>\n",
       "      <th>isbn</th>\n",
       "      <td>316015849</td>\n",
       "      <td>60724692</td>\n",
       "      <td>747236380</td>\n",
       "      <td>60827645</td>\n",
       "    </tr>\n",
       "    <tr>\n",
       "      <th>isbn13</th>\n",
       "      <td>9.78032e+12</td>\n",
       "      <td>9.78006e+12</td>\n",
       "      <td>9.78075e+12</td>\n",
       "      <td>9.78006e+12</td>\n",
       "    </tr>\n",
       "    <tr>\n",
       "      <th>authors</th>\n",
       "      <td>Stephenie Meyer</td>\n",
       "      <td>Meg Cabot</td>\n",
       "      <td>Leigh Nichols, Dean Koontz</td>\n",
       "      <td>Erin Hunter</td>\n",
       "    </tr>\n",
       "    <tr>\n",
       "      <th>original_publication_year</th>\n",
       "      <td>2005</td>\n",
       "      <td>2005</td>\n",
       "      <td>1984</td>\n",
       "      <td>2006</td>\n",
       "    </tr>\n",
       "    <tr>\n",
       "      <th>original_title</th>\n",
       "      <td>Twilight</td>\n",
       "      <td>Twilight</td>\n",
       "      <td>Twilight</td>\n",
       "      <td>Twilight</td>\n",
       "    </tr>\n",
       "    <tr>\n",
       "      <th>title</th>\n",
       "      <td>Twilight (Twilight, #1)</td>\n",
       "      <td>Twilight (The Mediator, #6)</td>\n",
       "      <td>The Servants of Twilight</td>\n",
       "      <td>Twilight (Warriors: The New Prophecy, #5)</td>\n",
       "    </tr>\n",
       "    <tr>\n",
       "      <th>language_code</th>\n",
       "      <td>en-US</td>\n",
       "      <td>eng</td>\n",
       "      <td>eng</td>\n",
       "      <td>en-US</td>\n",
       "    </tr>\n",
       "    <tr>\n",
       "      <th>average_rating</th>\n",
       "      <td>3.57</td>\n",
       "      <td>4.26</td>\n",
       "      <td>3.81</td>\n",
       "      <td>4.3</td>\n",
       "    </tr>\n",
       "    <tr>\n",
       "      <th>ratings_count</th>\n",
       "      <td>3866839</td>\n",
       "      <td>32489</td>\n",
       "      <td>14476</td>\n",
       "      <td>15604</td>\n",
       "    </tr>\n",
       "    <tr>\n",
       "      <th>work_ratings_count</th>\n",
       "      <td>3916824</td>\n",
       "      <td>34286</td>\n",
       "      <td>15878</td>\n",
       "      <td>16704</td>\n",
       "    </tr>\n",
       "    <tr>\n",
       "      <th>work_text_reviews_count</th>\n",
       "      <td>95009</td>\n",
       "      <td>979</td>\n",
       "      <td>274</td>\n",
       "      <td>361</td>\n",
       "    </tr>\n",
       "    <tr>\n",
       "      <th>ratings_1</th>\n",
       "      <td>456191</td>\n",
       "      <td>245</td>\n",
       "      <td>191</td>\n",
       "      <td>138</td>\n",
       "    </tr>\n",
       "    <tr>\n",
       "      <th>ratings_2</th>\n",
       "      <td>436802</td>\n",
       "      <td>982</td>\n",
       "      <td>1017</td>\n",
       "      <td>473</td>\n",
       "    </tr>\n",
       "    <tr>\n",
       "      <th>ratings_3</th>\n",
       "      <td>793319</td>\n",
       "      <td>5446</td>\n",
       "      <td>4824</td>\n",
       "      <td>2514</td>\n",
       "    </tr>\n",
       "    <tr>\n",
       "      <th>ratings_4</th>\n",
       "      <td>875073</td>\n",
       "      <td>10693</td>\n",
       "      <td>5482</td>\n",
       "      <td>4665</td>\n",
       "    </tr>\n",
       "    <tr>\n",
       "      <th>ratings_5</th>\n",
       "      <td>1355439</td>\n",
       "      <td>16920</td>\n",
       "      <td>4364</td>\n",
       "      <td>8914</td>\n",
       "    </tr>\n",
       "    <tr>\n",
       "      <th>image_url</th>\n",
       "      <td>https://images.gr-assets.com/books/1361039443m...</td>\n",
       "      <td>https://images.gr-assets.com/books/1327959055m...</td>\n",
       "      <td>https://images.gr-assets.com/books/1327999566m...</td>\n",
       "      <td>https://images.gr-assets.com/books/1363786463m...</td>\n",
       "    </tr>\n",
       "    <tr>\n",
       "      <th>small_image_url</th>\n",
       "      <td>https://images.gr-assets.com/books/1361039443s...</td>\n",
       "      <td>https://images.gr-assets.com/books/1327959055s...</td>\n",
       "      <td>https://images.gr-assets.com/books/1327999566s...</td>\n",
       "      <td>https://images.gr-assets.com/books/1363786463s...</td>\n",
       "    </tr>\n",
       "  </tbody>\n",
       "</table>\n",
       "</div>"
      ],
      "text/plain": [
       "                                                                        2     \\\n",
       "book_id                                                                    3   \n",
       "goodreads_book_id                                                      41865   \n",
       "best_book_id                                                           41865   \n",
       "work_id                                                              3212258   \n",
       "books_count                                                              226   \n",
       "isbn                                                               316015849   \n",
       "isbn13                                                           9.78032e+12   \n",
       "authors                                                      Stephenie Meyer   \n",
       "original_publication_year                                               2005   \n",
       "original_title                                                      Twilight   \n",
       "title                                                Twilight (Twilight, #1)   \n",
       "language_code                                                          en-US   \n",
       "average_rating                                                          3.57   \n",
       "ratings_count                                                        3866839   \n",
       "work_ratings_count                                                   3916824   \n",
       "work_text_reviews_count                                                95009   \n",
       "ratings_1                                                             456191   \n",
       "ratings_2                                                             436802   \n",
       "ratings_3                                                             793319   \n",
       "ratings_4                                                             875073   \n",
       "ratings_5                                                            1355439   \n",
       "image_url                  https://images.gr-assets.com/books/1361039443m...   \n",
       "small_image_url            https://images.gr-assets.com/books/1361039443s...   \n",
       "\n",
       "                                                                        4233  \\\n",
       "book_id                                                                 4234   \n",
       "goodreads_book_id                                                      93724   \n",
       "best_book_id                                                           93724   \n",
       "work_id                                                              2349900   \n",
       "books_count                                                               38   \n",
       "isbn                                                                60724692   \n",
       "isbn13                                                           9.78006e+12   \n",
       "authors                                                            Meg Cabot   \n",
       "original_publication_year                                               2005   \n",
       "original_title                                                      Twilight   \n",
       "title                                            Twilight (The Mediator, #6)   \n",
       "language_code                                                            eng   \n",
       "average_rating                                                          4.26   \n",
       "ratings_count                                                          32489   \n",
       "work_ratings_count                                                     34286   \n",
       "work_text_reviews_count                                                  979   \n",
       "ratings_1                                                                245   \n",
       "ratings_2                                                                982   \n",
       "ratings_3                                                               5446   \n",
       "ratings_4                                                              10693   \n",
       "ratings_5                                                              16920   \n",
       "image_url                  https://images.gr-assets.com/books/1327959055m...   \n",
       "small_image_url            https://images.gr-assets.com/books/1327959055s...   \n",
       "\n",
       "                                                                        7046  \\\n",
       "book_id                                                                 7047   \n",
       "goodreads_book_id                                                      32453   \n",
       "best_book_id                                                           32453   \n",
       "work_id                                                              1049922   \n",
       "books_count                                                               62   \n",
       "isbn                                                               747236380   \n",
       "isbn13                                                           9.78075e+12   \n",
       "authors                                           Leigh Nichols, Dean Koontz   \n",
       "original_publication_year                                               1984   \n",
       "original_title                                                      Twilight   \n",
       "title                                               The Servants of Twilight   \n",
       "language_code                                                            eng   \n",
       "average_rating                                                          3.81   \n",
       "ratings_count                                                          14476   \n",
       "work_ratings_count                                                     15878   \n",
       "work_text_reviews_count                                                  274   \n",
       "ratings_1                                                                191   \n",
       "ratings_2                                                               1017   \n",
       "ratings_3                                                               4824   \n",
       "ratings_4                                                               5482   \n",
       "ratings_5                                                               4364   \n",
       "image_url                  https://images.gr-assets.com/books/1327999566m...   \n",
       "small_image_url            https://images.gr-assets.com/books/1327999566s...   \n",
       "\n",
       "                                                                        8353  \n",
       "book_id                                                                 8354  \n",
       "goodreads_book_id                                                     252938  \n",
       "best_book_id                                                          252938  \n",
       "work_id                                                               245106  \n",
       "books_count                                                               41  \n",
       "isbn                                                                60827645  \n",
       "isbn13                                                           9.78006e+12  \n",
       "authors                                                          Erin Hunter  \n",
       "original_publication_year                                               2006  \n",
       "original_title                                                      Twilight  \n",
       "title                              Twilight (Warriors: The New Prophecy, #5)  \n",
       "language_code                                                          en-US  \n",
       "average_rating                                                           4.3  \n",
       "ratings_count                                                          15604  \n",
       "work_ratings_count                                                     16704  \n",
       "work_text_reviews_count                                                  361  \n",
       "ratings_1                                                                138  \n",
       "ratings_2                                                                473  \n",
       "ratings_3                                                               2514  \n",
       "ratings_4                                                               4665  \n",
       "ratings_5                                                               8914  \n",
       "image_url                  https://images.gr-assets.com/books/1363786463m...  \n",
       "small_image_url            https://images.gr-assets.com/books/1363786463s...  "
      ]
     },
     "execution_count": 15,
     "metadata": {},
     "output_type": "execute_result"
    }
   ],
   "source": [
    "books_data.loc[books_data['original_title']=='Twilight'].T"
   ]
  },
  {
   "cell_type": "code",
   "execution_count": 16,
   "metadata": {},
   "outputs": [],
   "source": [
    "book_to_id = dict()\n",
    "id_to_book = dict()"
   ]
  },
  {
   "cell_type": "code",
   "execution_count": 17,
   "metadata": {},
   "outputs": [],
   "source": [
    "for item in book_id_dict.items():\n",
    "    book_to_id[item[1]['title']] = item[0]\n",
    "    id_to_book[item[0]] = item[1]['title']"
   ]
  },
  {
   "cell_type": "code",
   "execution_count": 20,
   "metadata": {},
   "outputs": [
    {
     "data": {
      "text/plain": [
       "4"
      ]
     },
     "execution_count": 20,
     "metadata": {},
     "output_type": "execute_result"
    }
   ],
   "source": [
    "book_to_id['To Kill a Mockingbird']"
   ]
  },
  {
   "cell_type": "code",
   "execution_count": 21,
   "metadata": {},
   "outputs": [
    {
     "data": {
      "text/plain": [
       "'To Kill a Mockingbird'"
      ]
     },
     "execution_count": 21,
     "metadata": {},
     "output_type": "execute_result"
    }
   ],
   "source": [
    "id_to_book[4]"
   ]
  },
  {
   "cell_type": "code",
   "execution_count": 22,
   "metadata": {},
   "outputs": [],
   "source": [
    "user_ids = book_ratings.user_id.unique()\n",
    "book_ids = book_ratings.book_id.unique()"
   ]
  },
  {
   "cell_type": "markdown",
   "metadata": {},
   "source": [
    "## Randomised SVD"
   ]
  },
  {
   "cell_type": "code",
   "execution_count": 18,
   "metadata": {},
   "outputs": [],
   "source": [
    "lean_rating_pivot = book_ratings.pivot(index='user_id', columns='book_id', values='rating')"
   ]
  },
  {
   "cell_type": "code",
   "execution_count": 19,
   "metadata": {},
   "outputs": [],
   "source": [
    "lean_rating_pivot = lean_rating_pivot.reset_index()"
   ]
  },
  {
   "cell_type": "code",
   "execution_count": 20,
   "metadata": {},
   "outputs": [],
   "source": [
    "lean_rating_pivot = lean_rating_pivot.drop('user_id', axis=1)"
   ]
  },
  {
   "cell_type": "code",
   "execution_count": 21,
   "metadata": {},
   "outputs": [],
   "source": [
    "lean_rating_pivot = lean_rating_pivot.fillna(0)"
   ]
  },
  {
   "cell_type": "code",
   "execution_count": 22,
   "metadata": {},
   "outputs": [],
   "source": [
    "mat_ratings = lean_rating_pivot.as_matrix()"
   ]
  },
  {
   "cell_type": "code",
   "execution_count": 23,
   "metadata": {},
   "outputs": [],
   "source": [
    "from sklearn.utils.extmath import randomized_svd"
   ]
  },
  {
   "cell_type": "code",
   "execution_count": 24,
   "metadata": {},
   "outputs": [],
   "source": [
    "U, Sigma, VT = randomized_svd(mat_ratings, \n",
    "                              n_components=100,\n",
    "                              n_iter=5,\n",
    "                              random_state=None)"
   ]
  },
  {
   "cell_type": "code",
   "execution_count": 25,
   "metadata": {},
   "outputs": [
    {
     "data": {
      "text/plain": [
       "((53424, 100), (100,), (100, 10000))"
      ]
     },
     "execution_count": 25,
     "metadata": {},
     "output_type": "execute_result"
    }
   ],
   "source": [
    "U.shape, Sigma.shape, VT.shape"
   ]
  },
  {
   "cell_type": "code",
   "execution_count": 26,
   "metadata": {},
   "outputs": [],
   "source": [
    "X_transformed = U * Sigma"
   ]
  },
  {
   "cell_type": "code",
   "execution_count": 28,
   "metadata": {},
   "outputs": [
    {
     "data": {
      "text/plain": [
       "8115.031994868231"
      ]
     },
     "execution_count": 28,
     "metadata": {},
     "output_type": "execute_result"
    }
   ],
   "source": [
    "np.linalg.norm(np.matmul(X_transformed,VT)-mat_ratings) # Reconstruction Loss"
   ]
  },
  {
   "cell_type": "code",
   "execution_count": 29,
   "metadata": {},
   "outputs": [],
   "source": [
    "book_features = VT.T\n",
    "user_features = U"
   ]
  },
  {
   "cell_type": "code",
   "execution_count": 30,
   "metadata": {},
   "outputs": [
    {
     "data": {
      "text/plain": [
       "((10000, 100), (53424, 100))"
      ]
     },
     "execution_count": 30,
     "metadata": {},
     "output_type": "execute_result"
    }
   ],
   "source": [
    "book_features.shape, user_features.shape"
   ]
  },
  {
   "cell_type": "markdown",
   "metadata": {},
   "source": [
    "## Item Item Similarity"
   ]
  },
  {
   "cell_type": "code",
   "execution_count": 31,
   "metadata": {},
   "outputs": [],
   "source": [
    "from sklearn.metrics.pairwise import cosine_similarity"
   ]
  },
  {
   "cell_type": "code",
   "execution_count": 32,
   "metadata": {},
   "outputs": [],
   "source": [
    "svd_similarities = cosine_similarity(book_features)"
   ]
  },
  {
   "cell_type": "code",
   "execution_count": 33,
   "metadata": {},
   "outputs": [
    {
     "data": {
      "text/plain": [
       "(10000, 10000)"
      ]
     },
     "execution_count": 33,
     "metadata": {},
     "output_type": "execute_result"
    }
   ],
   "source": [
    "svd_similarities.shape"
   ]
  },
  {
   "cell_type": "code",
   "execution_count": 34,
   "metadata": {},
   "outputs": [],
   "source": [
    "book_name = 'A Beautiful Mind'"
   ]
  },
  {
   "cell_type": "code",
   "execution_count": 35,
   "metadata": {},
   "outputs": [],
   "source": [
    "book_id = book_to_id[book_name]"
   ]
  },
  {
   "cell_type": "code",
   "execution_count": 36,
   "metadata": {},
   "outputs": [],
   "source": [
    "similar_books = pd.Series(svd_similarities[book_id-1])"
   ]
  },
  {
   "cell_type": "code",
   "execution_count": 37,
   "metadata": {},
   "outputs": [],
   "source": [
    "book_id = book_to_id[book_name]"
   ]
  },
  {
   "cell_type": "code",
   "execution_count": 38,
   "metadata": {},
   "outputs": [],
   "source": [
    "similar_books = pd.Series(svd_similarities[book_id-1])"
   ]
  },
  {
   "cell_type": "code",
   "execution_count": 39,
   "metadata": {},
   "outputs": [],
   "source": [
    "top_n = 10"
   ]
  },
  {
   "cell_type": "code",
   "execution_count": 40,
   "metadata": {},
   "outputs": [
    {
     "data": {
      "text/html": [
       "<div>\n",
       "<style scoped>\n",
       "    .dataframe tbody tr th:only-of-type {\n",
       "        vertical-align: middle;\n",
       "    }\n",
       "\n",
       "    .dataframe tbody tr th {\n",
       "        vertical-align: top;\n",
       "    }\n",
       "\n",
       "    .dataframe thead th {\n",
       "        text-align: right;\n",
       "    }\n",
       "</style>\n",
       "<table border=\"1\" class=\"dataframe\">\n",
       "  <thead>\n",
       "    <tr style=\"text-align: right;\">\n",
       "      <th></th>\n",
       "      <th>index</th>\n",
       "      <th>0</th>\n",
       "    </tr>\n",
       "  </thead>\n",
       "  <tbody>\n",
       "    <tr>\n",
       "      <th>4967</th>\n",
       "      <td>4967</td>\n",
       "      <td>0.822571</td>\n",
       "    </tr>\n",
       "    <tr>\n",
       "      <th>6111</th>\n",
       "      <td>6111</td>\n",
       "      <td>0.799211</td>\n",
       "    </tr>\n",
       "    <tr>\n",
       "      <th>2715</th>\n",
       "      <td>2715</td>\n",
       "      <td>0.794899</td>\n",
       "    </tr>\n",
       "    <tr>\n",
       "      <th>5210</th>\n",
       "      <td>5210</td>\n",
       "      <td>0.780967</td>\n",
       "    </tr>\n",
       "    <tr>\n",
       "      <th>2022</th>\n",
       "      <td>2022</td>\n",
       "      <td>0.772210</td>\n",
       "    </tr>\n",
       "    <tr>\n",
       "      <th>2481</th>\n",
       "      <td>2481</td>\n",
       "      <td>0.742806</td>\n",
       "    </tr>\n",
       "    <tr>\n",
       "      <th>2909</th>\n",
       "      <td>2909</td>\n",
       "      <td>0.736177</td>\n",
       "    </tr>\n",
       "    <tr>\n",
       "      <th>9628</th>\n",
       "      <td>9628</td>\n",
       "      <td>0.733422</td>\n",
       "    </tr>\n",
       "    <tr>\n",
       "      <th>3241</th>\n",
       "      <td>3241</td>\n",
       "      <td>0.733039</td>\n",
       "    </tr>\n",
       "  </tbody>\n",
       "</table>\n",
       "</div>"
      ],
      "text/plain": [
       "      index         0\n",
       "4967   4967  0.822571\n",
       "6111   6111  0.799211\n",
       "2715   2715  0.794899\n",
       "5210   5210  0.780967\n",
       "2022   2022  0.772210\n",
       "2481   2481  0.742806\n",
       "2909   2909  0.736177\n",
       "9628   9628  0.733422\n",
       "3241   3241  0.733039"
      ]
     },
     "execution_count": 40,
     "metadata": {},
     "output_type": "execute_result"
    }
   ],
   "source": [
    "similar_books.reset_index().sort_values(by=[0], ascending=False)[1:top_n]"
   ]
  },
  {
   "cell_type": "code",
   "execution_count": 41,
   "metadata": {},
   "outputs": [],
   "source": [
    "similar_n_books = similar_books.sort_values(ascending=False)[1:top_n].index.tolist()\n",
    "\n",
    "similar_n_books_ids = [i+1 for i in similar_n_books]\n",
    "\n",
    "similar_books_names = [id_to_book[i] for i in similar_n_books_ids]"
   ]
  },
  {
   "cell_type": "code",
   "execution_count": 42,
   "metadata": {},
   "outputs": [],
   "source": [
    "def get_top_n_similar_books(book_name,top_n):\n",
    "    book_id = book_to_id[book_name]\n",
    "    similar_books = pd.Series(svd_similarities[book_id-1])\n",
    "\n",
    "    similar_n_books = similar_books.reset_index().sort_values(by=[0], ascending=False)[1:top_n]\n",
    "    similar_n_books.columns = ['book_id', 'score']\n",
    "    similar_n_books['book_name'] = similar_n_books['book_id'].apply(lambda x: id_to_book[x+1])\n",
    "    return similar_n_books[['book_name', 'score']]"
   ]
  },
  {
   "cell_type": "code",
   "execution_count": 43,
   "metadata": {},
   "outputs": [
    {
     "data": {
      "text/html": [
       "<div>\n",
       "<style scoped>\n",
       "    .dataframe tbody tr th:only-of-type {\n",
       "        vertical-align: middle;\n",
       "    }\n",
       "\n",
       "    .dataframe tbody tr th {\n",
       "        vertical-align: top;\n",
       "    }\n",
       "\n",
       "    .dataframe thead th {\n",
       "        text-align: right;\n",
       "    }\n",
       "</style>\n",
       "<table border=\"1\" class=\"dataframe\">\n",
       "  <thead>\n",
       "    <tr style=\"text-align: right;\">\n",
       "      <th></th>\n",
       "      <th>book_name</th>\n",
       "      <th>score</th>\n",
       "    </tr>\n",
       "  </thead>\n",
       "  <tbody>\n",
       "    <tr>\n",
       "      <th>175</th>\n",
       "      <td>It</td>\n",
       "      <td>0.842890</td>\n",
       "    </tr>\n",
       "    <tr>\n",
       "      <th>167</th>\n",
       "      <td>The Stand</td>\n",
       "      <td>0.781102</td>\n",
       "    </tr>\n",
       "    <tr>\n",
       "      <th>208</th>\n",
       "      <td>The Silence of the Lambs  (Hannibal Lecter, #2)</td>\n",
       "      <td>0.758744</td>\n",
       "    </tr>\n",
       "    <tr>\n",
       "      <th>236</th>\n",
       "      <td>Carrie</td>\n",
       "      <td>0.720210</td>\n",
       "    </tr>\n",
       "    <tr>\n",
       "      <th>730</th>\n",
       "      <td>The Exorcist</td>\n",
       "      <td>0.717553</td>\n",
       "    </tr>\n",
       "  </tbody>\n",
       "</table>\n",
       "</div>"
      ],
      "text/plain": [
       "                                           book_name     score\n",
       "175                                               It  0.842890\n",
       "167                                        The Stand  0.781102\n",
       "208  The Silence of the Lambs  (Hannibal Lecter, #2)  0.758744\n",
       "236                                           Carrie  0.720210\n",
       "730                                     The Exorcist  0.717553"
      ]
     },
     "execution_count": 43,
     "metadata": {},
     "output_type": "execute_result"
    }
   ],
   "source": [
    "get_top_n_similar_books(\"The Shining (The Shining #1)\", 6)"
   ]
  },
  {
   "cell_type": "code",
   "execution_count": 44,
   "metadata": {},
   "outputs": [
    {
     "data": {
      "text/html": [
       "<div>\n",
       "<style scoped>\n",
       "    .dataframe tbody tr th:only-of-type {\n",
       "        vertical-align: middle;\n",
       "    }\n",
       "\n",
       "    .dataframe tbody tr th {\n",
       "        vertical-align: top;\n",
       "    }\n",
       "\n",
       "    .dataframe thead th {\n",
       "        text-align: right;\n",
       "    }\n",
       "</style>\n",
       "<table border=\"1\" class=\"dataframe\">\n",
       "  <thead>\n",
       "    <tr style=\"text-align: right;\">\n",
       "      <th></th>\n",
       "      <th>book_name</th>\n",
       "      <th>score</th>\n",
       "    </tr>\n",
       "  </thead>\n",
       "  <tbody>\n",
       "    <tr>\n",
       "      <th>48</th>\n",
       "      <td>New Moon (Twilight, #2)</td>\n",
       "      <td>0.725853</td>\n",
       "    </tr>\n",
       "    <tr>\n",
       "      <th>51</th>\n",
       "      <td>Eclipse (Twilight, #3)</td>\n",
       "      <td>0.718457</td>\n",
       "    </tr>\n",
       "    <tr>\n",
       "      <th>55</th>\n",
       "      <td>Breaking Dawn (Twilight, #4)</td>\n",
       "      <td>0.711154</td>\n",
       "    </tr>\n",
       "    <tr>\n",
       "      <th>219</th>\n",
       "      <td>Twilight: The Complete Illustrated Movie Compa...</td>\n",
       "      <td>0.662604</td>\n",
       "    </tr>\n",
       "    <tr>\n",
       "      <th>72</th>\n",
       "      <td>The Host (The Host, #1)</td>\n",
       "      <td>0.584678</td>\n",
       "    </tr>\n",
       "  </tbody>\n",
       "</table>\n",
       "</div>"
      ],
      "text/plain": [
       "                                             book_name     score\n",
       "48                             New Moon (Twilight, #2)  0.725853\n",
       "51                              Eclipse (Twilight, #3)  0.718457\n",
       "55                        Breaking Dawn (Twilight, #4)  0.711154\n",
       "219  Twilight: The Complete Illustrated Movie Compa...  0.662604\n",
       "72                             The Host (The Host, #1)  0.584678"
      ]
     },
     "execution_count": 44,
     "metadata": {},
     "output_type": "execute_result"
    }
   ],
   "source": [
    "get_top_n_similar_books(\"Twilight (Twilight, #1)\", 6)"
   ]
  },
  {
   "cell_type": "markdown",
   "metadata": {},
   "source": [
    "## Item User Similarity"
   ]
  },
  {
   "cell_type": "code",
   "execution_count": 45,
   "metadata": {},
   "outputs": [],
   "source": [
    "def get_user_history(user_id):\n",
    "    user_history = book_ratings.loc[book_ratings['user_id']==user_id, 'book_id'].unique()\n",
    "    return [id_to_book[i] for i in user_history]"
   ]
  },
  {
   "cell_type": "code",
   "execution_count": 46,
   "metadata": {},
   "outputs": [],
   "source": [
    "def get_top_n_recom_for_user(user_id, top_n):\n",
    "    user_feature = user_features[user_id -1]\n",
    "    all_books_score_for_user = pd.Series(np.dot(user_feature, book_features.T))\n",
    "    norm = np.linalg.norm(np.dot(user_feature, book_features.T))\n",
    "    recom_n_books = all_books_score_for_user.reset_index().sort_values(by=[0], ascending=False)[1:top_n]\n",
    "    recom_n_books.columns = ['book_id', 'score']\n",
    "    recom_n_books['score'] = recom_n_books['score']/norm\n",
    "    recom_n_books['book_name'] = recom_n_books['book_id'].apply(lambda x: id_to_book[x+1])\n",
    "    \n",
    "    print(\"User History: \", get_user_history(user_id))\n",
    "    return recom_n_books[['book_name', 'score']]"
   ]
  },
  {
   "cell_type": "code",
   "execution_count": 47,
   "metadata": {},
   "outputs": [
    {
     "name": "stdout",
     "output_type": "stream",
     "text": [
      "User History:  ['Desecration (Left Behind, #9)', 'Always Looking Up: The Adventures of an Incurable Optimist', 'The Night Circus', 'The Surgeon (Rizzoli & Isles, #1)', \"Food Rules: An Eater's Manual\", 'A Discovery of Witches (All Souls Trilogy, #1)', \"Seriously... I'm Kidding\", 'Fifty Shades of Grey (Fifty Shades, #1)', 'Heat Wave (Nikki Heat, #1)', 'The Five People You Meet in Heaven', \"He's Just Not That Into You: The No-Excuses Truth to Understanding Guys\", 'Where the Heart Is', 'The Last Lecture', 'Survival in Auschwitz', 'Marked (House of Night, #1)', 'Back Roads', 'Midwives', 'The Story of My Life', 'The Bad Beginning (A Series of Unfortunate Events, #1)', 'Freak the Mighty (Freak The Mighty, #1)', \"My Sister's Keeper\", 'I Know This Much Is True', 'The Red Tent', 'Flowers in the Attic (Dollanganger, #1)', 'Petals on the Wind (Dollanganger, #2)', 'Perfect Match', 'For One More Day', 'The Hour I First Believed', 'The Remnant (Left Behind, #10)', 'One for the Money (Stephanie Plum, #1)', 'House Rules', 'I am Charlotte Simmons', 'Happy Accidents: A Memoir', 'Black and Blue', 'The Catcher in the Rye', 'The Happiness Project: Or Why I Spent a Year Trying to Sing in the Morning, Clean My Closets, Fight Right, Read Aristotle, and Generally Have More Fun', 'Lucky Man', 'Two for the Dough (Stephanie Plum, #2)', 'Armageddon: The Cosmic Battle of the Ages (Left Behind, #11)', 'Glorious Appearing: The End of Days (Left Behind, #12)', 'The Five Dysfunctions of a Team: A Leadership Fable', 'The Thirteenth Tale', 'Warm Bodies (Warm Bodies, #1)', 'Who Moved My Cheese?', 'The Princess Bride ', 'Then Came You', 'The Curious Incident of the Dog in the Night-Time', 'The Book of Ruth', 'This Time Together: Laughter and Reflection', 'Lucky', 'Smashed: Story of a Drunken Girlhood', 'Eat, Pray, Love', 'Bird by Bird: Some Instructions on Writing and Life', 'Three to Get Deadly (Stephanie Plum, #3)', 'The Physick Book of Deliverance Dane', 'Fifty Shades Darker (Fifty Shades, #2)', 'Little House in the Big Woods (Little House, #1)', 'Animal Farm / 1984', 'Brave New World / Brave New World Revisited', 'Harvesting the Heart', 'White Noise', \"Ladies' Night\", 'Four to Score (Stephanie Plum, #4)', 'Orange Is the New Black', 'Yes Please', 'Divergent (Divergent, #1)', 'Gone Girl', 'The Book Thief', 'High Five (Stephanie Plum, #5)', 'The Age of Miracles', 'Rubyfruit Jungle', 'The Lost Symbol (Robert Langdon, #3)', 'Insurgent (Divergent, #2)', 'Sharp Objects', 'Dark Places', 'Abraham Lincoln: Vampire Hunter', 'Hot Six (Stephanie Plum, #6)', 'Jazz', 'Interpreter of Maladies', 'Seven Up (Stephanie Plum, #7)', 'All Fall Down', 'Have a Little Faith: a True Story', 'Jurassic Park (Jurassic Park, #1)', 'Hard Eight (Stephanie Plum, #8)', 'Allegiant (Divergent, #3)', 'Vanishing Acts', 'Divine Secrets of the Ya-Ya Sisterhood', 'Wild: From Lost to Found on the Pacific Crest Trail', 'Life of Pi']\n"
     ]
    },
    {
     "data": {
      "text/html": [
       "<div>\n",
       "<style scoped>\n",
       "    .dataframe tbody tr th:only-of-type {\n",
       "        vertical-align: middle;\n",
       "    }\n",
       "\n",
       "    .dataframe tbody tr th {\n",
       "        vertical-align: top;\n",
       "    }\n",
       "\n",
       "    .dataframe thead th {\n",
       "        text-align: right;\n",
       "    }\n",
       "</style>\n",
       "<table border=\"1\" class=\"dataframe\">\n",
       "  <thead>\n",
       "    <tr style=\"text-align: right;\">\n",
       "      <th></th>\n",
       "      <th>book_name</th>\n",
       "      <th>score</th>\n",
       "    </tr>\n",
       "  </thead>\n",
       "  <tbody>\n",
       "    <tr>\n",
       "      <th>11</th>\n",
       "      <td>Divergent (Divergent, #1)</td>\n",
       "      <td>0.251063</td>\n",
       "    </tr>\n",
       "    <tr>\n",
       "      <th>68</th>\n",
       "      <td>Insurgent (Divergent, #2)</td>\n",
       "      <td>0.199003</td>\n",
       "    </tr>\n",
       "    <tr>\n",
       "      <th>44</th>\n",
       "      <td>Life of Pi</td>\n",
       "      <td>0.188456</td>\n",
       "    </tr>\n",
       "    <tr>\n",
       "      <th>46</th>\n",
       "      <td>The Book Thief</td>\n",
       "      <td>0.144128</td>\n",
       "    </tr>\n",
       "    <tr>\n",
       "      <th>34</th>\n",
       "      <td>The Alchemist</td>\n",
       "      <td>0.133192</td>\n",
       "    </tr>\n",
       "    <tr>\n",
       "      <th>104</th>\n",
       "      <td>Allegiant (Divergent, #3)</td>\n",
       "      <td>0.131038</td>\n",
       "    </tr>\n",
       "    <tr>\n",
       "      <th>225</th>\n",
       "      <td>Dark Places</td>\n",
       "      <td>0.119156</td>\n",
       "    </tr>\n",
       "    <tr>\n",
       "      <th>83</th>\n",
       "      <td>Jurassic Park (Jurassic Park, #1)</td>\n",
       "      <td>0.113995</td>\n",
       "    </tr>\n",
       "    <tr>\n",
       "      <th>243</th>\n",
       "      <td>Sharp Objects</td>\n",
       "      <td>0.108298</td>\n",
       "    </tr>\n",
       "  </tbody>\n",
       "</table>\n",
       "</div>"
      ],
      "text/plain": [
       "                             book_name     score\n",
       "11           Divergent (Divergent, #1)  0.251063\n",
       "68           Insurgent (Divergent, #2)  0.199003\n",
       "44                          Life of Pi  0.188456\n",
       "46                      The Book Thief  0.144128\n",
       "34                       The Alchemist  0.133192\n",
       "104          Allegiant (Divergent, #3)  0.131038\n",
       "225                        Dark Places  0.119156\n",
       "83   Jurassic Park (Jurassic Park, #1)  0.113995\n",
       "243                      Sharp Objects  0.108298"
      ]
     },
     "execution_count": 47,
     "metadata": {},
     "output_type": "execute_result"
    }
   ],
   "source": [
    "get_top_n_recom_for_user(14256,10)"
   ]
  },
  {
   "cell_type": "markdown",
   "metadata": {},
   "source": [
    "## Alternating Least Squares"
   ]
  },
  {
   "cell_type": "code",
   "execution_count": 48,
   "metadata": {},
   "outputs": [],
   "source": [
    "import implicit"
   ]
  },
  {
   "cell_type": "code",
   "execution_count": 49,
   "metadata": {},
   "outputs": [],
   "source": [
    "sparse_item_user = sparse.csr_matrix((book_ratings['rating'].astype(float), (book_ratings['book_id'], book_ratings['user_id'])))\n",
    "sparse_user_item = sparse.csr_matrix((book_ratings['rating'].astype(float), (book_ratings['user_id'], book_ratings['book_id'])))"
   ]
  },
  {
   "cell_type": "code",
   "execution_count": 50,
   "metadata": {},
   "outputs": [
    {
     "data": {
      "text/plain": [
       "((10001, 53425), (53425, 10001))"
      ]
     },
     "execution_count": 50,
     "metadata": {},
     "output_type": "execute_result"
    }
   ],
   "source": [
    "sparse_item_user.shape, sparse_user_item.shape"
   ]
  },
  {
   "cell_type": "code",
   "execution_count": 51,
   "metadata": {},
   "outputs": [
    {
     "name": "stderr",
     "output_type": "stream",
     "text": [
      "WARNING:root:Intel MKL BLAS detected. Its highly recommend to set the environment variable 'export MKL_NUM_THREADS=1' to disable its internal multithreading\n"
     ]
    }
   ],
   "source": [
    "# Initialize the als model and fit it using the sparse item-user matrix\n",
    "model = implicit.als.AlternatingLeastSquares(factors=100, regularization=0.1, iterations=20)"
   ]
  },
  {
   "cell_type": "code",
   "execution_count": 52,
   "metadata": {},
   "outputs": [],
   "source": [
    "# Calculate the confidence by multiplying it by our alpha value.\n",
    "alpha_val = 15\n",
    "data_conf = (sparse_item_user * alpha_val).astype('double')"
   ]
  },
  {
   "cell_type": "code",
   "execution_count": 53,
   "metadata": {},
   "outputs": [
    {
     "name": "stderr",
     "output_type": "stream",
     "text": [
      "100%|██████████| 20.0/20 [01:40<00:00,  5.06s/it]\n"
     ]
    }
   ],
   "source": [
    "# Fit the model\n",
    "model.fit(data_conf)"
   ]
  },
  {
   "cell_type": "code",
   "execution_count": 54,
   "metadata": {},
   "outputs": [],
   "source": [
    "# Get the user and item vectors from our trained model\n",
    "user_vecs = model.user_factors\n",
    "item_vecs = model.item_factors"
   ]
  },
  {
   "cell_type": "code",
   "execution_count": 55,
   "metadata": {},
   "outputs": [
    {
     "data": {
      "text/plain": [
       "((53425, 100), (10001, 100))"
      ]
     },
     "execution_count": 55,
     "metadata": {},
     "output_type": "execute_result"
    }
   ],
   "source": [
    "user_vecs.shape, item_vecs.shape"
   ]
  },
  {
   "cell_type": "code",
   "execution_count": 56,
   "metadata": {},
   "outputs": [
    {
     "data": {
      "text/plain": [
       "((53424,), (10000,))"
      ]
     },
     "execution_count": 56,
     "metadata": {},
     "output_type": "execute_result"
    }
   ],
   "source": [
    "user_ids.shape, book_ids.shape"
   ]
  },
  {
   "cell_type": "code",
   "execution_count": 57,
   "metadata": {},
   "outputs": [
    {
     "name": "stderr",
     "output_type": "stream",
     "text": [
      "/Users/sanganichaitanya/anaconda3/lib/python3.6/site-packages/ipykernel_launcher.py:2: RuntimeWarning: invalid value encountered in sqrt\n",
      "  \n"
     ]
    }
   ],
   "source": [
    "# Calculate the vector norms\n",
    "item_norms = np.sqrt((item_vecs * item_vecs).sum(axis=1))"
   ]
  },
  {
   "cell_type": "code",
   "execution_count": 58,
   "metadata": {},
   "outputs": [
    {
     "data": {
      "text/plain": [
       "((10001, 100), (53425, 100))"
      ]
     },
     "execution_count": 58,
     "metadata": {},
     "output_type": "execute_result"
    }
   ],
   "source": [
    "item_vecs.shape, user_vecs.shape"
   ]
  },
  {
   "cell_type": "markdown",
   "metadata": {},
   "source": [
    "## Item Item Similarity"
   ]
  },
  {
   "cell_type": "code",
   "execution_count": 59,
   "metadata": {},
   "outputs": [
    {
     "name": "stderr",
     "output_type": "stream",
     "text": [
      "/Users/sanganichaitanya/anaconda3/lib/python3.6/site-packages/sklearn/utils/extmath.py:91: RuntimeWarning: invalid value encountered in sqrt\n",
      "  np.sqrt(norms, norms)\n"
     ]
    }
   ],
   "source": [
    "als_similarities = cosine_similarity(item_vecs)"
   ]
  },
  {
   "cell_type": "code",
   "execution_count": 60,
   "metadata": {},
   "outputs": [
    {
     "data": {
      "text/plain": [
       "(10001, 10001)"
      ]
     },
     "execution_count": 60,
     "metadata": {},
     "output_type": "execute_result"
    }
   ],
   "source": [
    "als_similarities.shape"
   ]
  },
  {
   "cell_type": "code",
   "execution_count": 61,
   "metadata": {},
   "outputs": [],
   "source": [
    "def get_top_n_similar_books_als(book_name,top_n):\n",
    "    book_id = book_to_id[book_name]\n",
    "    similar_books = pd.Series(als_similarities[book_id])\n",
    "\n",
    "    similar_n_books = similar_books.reset_index().sort_values(by=[0], ascending=False)[1:top_n]\n",
    "    similar_n_books.columns = ['book_id', 'score']\n",
    "    similar_n_books['book_name'] = similar_n_books['book_id'].apply(lambda x: id_to_book[x])\n",
    "    return similar_n_books[['book_name', 'score']]"
   ]
  },
  {
   "cell_type": "code",
   "execution_count": 62,
   "metadata": {},
   "outputs": [
    {
     "data": {
      "text/html": [
       "<div>\n",
       "<style scoped>\n",
       "    .dataframe tbody tr th:only-of-type {\n",
       "        vertical-align: middle;\n",
       "    }\n",
       "\n",
       "    .dataframe tbody tr th {\n",
       "        vertical-align: top;\n",
       "    }\n",
       "\n",
       "    .dataframe thead th {\n",
       "        text-align: right;\n",
       "    }\n",
       "</style>\n",
       "<table border=\"1\" class=\"dataframe\">\n",
       "  <thead>\n",
       "    <tr style=\"text-align: right;\">\n",
       "      <th></th>\n",
       "      <th>book_name</th>\n",
       "      <th>score</th>\n",
       "    </tr>\n",
       "  </thead>\n",
       "  <tbody>\n",
       "    <tr>\n",
       "      <th>1</th>\n",
       "      <td>The Hunger Games (The Hunger Games, #1)</td>\n",
       "      <td>0.938205</td>\n",
       "    </tr>\n",
       "    <tr>\n",
       "      <th>2</th>\n",
       "      <td>Harry Potter and the Sorcerer's Stone (Harry P...</td>\n",
       "      <td>0.924129</td>\n",
       "    </tr>\n",
       "    <tr>\n",
       "      <th>17</th>\n",
       "      <td>Catching Fire (The Hunger Games, #2)</td>\n",
       "      <td>0.900589</td>\n",
       "    </tr>\n",
       "    <tr>\n",
       "      <th>16</th>\n",
       "      <td>The Girl with the Dragon Tattoo (Millennium, #1)</td>\n",
       "      <td>0.894708</td>\n",
       "    </tr>\n",
       "    <tr>\n",
       "      <th>22</th>\n",
       "      <td>The Lovely Bones</td>\n",
       "      <td>0.894540</td>\n",
       "    </tr>\n",
       "  </tbody>\n",
       "</table>\n",
       "</div>"
      ],
      "text/plain": [
       "                                            book_name     score\n",
       "1             The Hunger Games (The Hunger Games, #1)  0.938205\n",
       "2   Harry Potter and the Sorcerer's Stone (Harry P...  0.924129\n",
       "17               Catching Fire (The Hunger Games, #2)  0.900589\n",
       "16   The Girl with the Dragon Tattoo (Millennium, #1)  0.894708\n",
       "22                                   The Lovely Bones  0.894540"
      ]
     },
     "execution_count": 62,
     "metadata": {},
     "output_type": "execute_result"
    }
   ],
   "source": [
    "get_top_n_similar_books_als(\"Twilight (Twilight, #1)\", 6)"
   ]
  },
  {
   "cell_type": "markdown",
   "metadata": {},
   "source": [
    "## Item User Similarity"
   ]
  },
  {
   "cell_type": "code",
   "execution_count": 63,
   "metadata": {},
   "outputs": [],
   "source": [
    "def get_top_n_recom_for_user_als(user_id, top_n):\n",
    "    user_feature = user_vecs[user_id]\n",
    "    all_books_score_for_user = pd.Series(np.dot(user_feature, item_vecs.T))\n",
    "    recom_n_books = all_books_score_for_user.reset_index().sort_values(by=[0], ascending=False)[1:top_n]\n",
    "    recom_n_books.columns = ['book_id', 'score']\n",
    "    recom_n_books['score'] = recom_n_books['score']\n",
    "    recom_n_books['book_name'] = recom_n_books['book_id'].apply(lambda x: id_to_book[x])\n",
    "    \n",
    "    print(\"User History: \", get_user_history(user_id))\n",
    "    return recom_n_books[['book_name', 'score']]"
   ]
  },
  {
   "cell_type": "code",
   "execution_count": 64,
   "metadata": {},
   "outputs": [
    {
     "name": "stdout",
     "output_type": "stream",
     "text": [
      "User History:  ['The Jane Austen Book Club', 'The Kite Runner', '1776', 'Mayflower: A Story of Courage, Community, and War', 'Survival in Auschwitz', \"Harry Potter and the Sorcerer's Stone (Harry Potter, #1)\", 'Harry Potter and the Chamber of Secrets (Harry Potter, #2)', 'Harry Potter and the Prisoner of Azkaban (Harry Potter, #3)', 'Harry Potter and the Goblet of Fire (Harry Potter, #4)', 'Harry Potter and the Order of the Phoenix (Harry Potter, #5)', 'Harry Potter and the Half-Blood Prince (Harry Potter, #6)', 'Rebecca', 'The Hot Zone: The Terrifying True Story of the Origins of the Ebola Virus', 'The Cobra Event', 'The Da Vinci Code (Robert Langdon, #2)', 'Angels & Demons  (Robert Langdon, #1)', \"The Pilot's Wife\", 'The Historian', 'The Rape of Nanking', 'The Lovely Bones', 'Lucky', 'We Wish to Inform You That Tomorrow We Will Be Killed with Our Families', 'The Red Pony', \"Bridget Jones's Diary (Bridget Jones, #1)\", 'Bridget Jones: The Edge of Reason (Bridget Jones, #2)', 'Reading Lolita in Tehran', \"What's the Matter with Kansas? How Conservatives Won the Heart of America\", 'Sense and Sensibility', 'Under the Banner of Heaven: A Story of Violent Faith', 'Slaughterhouse-Five', 'Atonement', \"The Zookeeper's Wife\", 'Into the Wild', 'The Crucible', 'Jonathan Livingston Seagull', 'The Nanny Diaries (Nanny, #1)', 'The Sun Also Rises', 'The Scarlet Letter', 'The Great Gatsby', 'The Adventures of Huckleberry Finn', 'Cry, the Beloved Country', 'Things Fall Apart (The African Trilogy, #1)', 'Beloved', 'Gilead (Gilead, #1)', 'Pride and Prejudice', 'The Catcher in the Rye', 'A Thousand Splendid Suns', 'Night (The Night Trilogy #1)', 'The Awakening', \"Cat's Cradle\", 'The Pearl', 'The Importance of Being Earnest', 'Fast Food Nation: The Dark Side of the All-American Meal', 'What Is the What', 'The Adventures of Tom Sawyer', 'In Cold Blood', 'Girls in Pants: The Third Summer of the Sisterhood (Sisterhood, #3)', 'The Second Summer of the Sisterhood (Sisterhood, #2)', 'Harry Potter and the Deathly Hallows (Harry Potter, #7)', 'A Tale of Two Cities', 'Great Expectations', 'The Good Earth (House of Earth, #1)', 'The Merchant of Venice', 'The Prince', 'The Federalist Papers', 'On Liberty', 'A Raisin in the Sun', 'Fences (The Century Cycle #6)', 'Up from Slavery', 'Catch-22', 'Anna Karenina', 'The Known World', \"A Room of One's Own\", 'The Communist Manifesto', 'Little Women (Little Women, #1)', 'The Diary of a Young Girl', 'Romeo and Juliet', 'The Giver (The Giver, #1)', 'To Kill a Mockingbird', 'Tuesdays with Morrie', 'Mudbound', 'All Souls: A Family Story from Southie', 'Run', 'Suite Française', 'Auschwitz', 'The Deep End of the Ocean (Cappadora Family, #1)', \"The Executioner's Song\", 'The Spirit Catches You and You Fall Down: A Hmong Child, Her American Doctors, and the Collision of Two Cultures', 'A Mercy', 'Into Thin Air: A Personal Account of the Mount Everest Disaster', 'Twilight (Twilight, #1)', 'The Reader', 'The Glass Menagerie', 'The Five People You Meet in Heaven', 'James and the Giant Peach', 'The Jungle', 'Island of the Blue Dolphins (Island of the Blue Dolphins, #1)', \"Charlotte's Web\", 'Where the Sidewalk Ends', 'Tender Is the Night', 'Charlie and the Chocolate Factory (Charlie Bucket, #1)', 'Matilda', 'The BFG', 'The Witches', 'The Twits', 'Summer Sisters', 'Ethan Frome', 'A Wrinkle in Time (A Wrinkle in Time Quintet, #1)', 'The Odyssey', 'The Iliad', 'A Streetcar Named Desire', 'Where the Red Fern Grows', 'New Moon (Twilight, #2)', 'Eclipse (Twilight, #3)', 'Breaking Dawn (Twilight, #4)', 'Once a Runner', 'The Alchemist', 'The Road', 'Olive Kitteridge', 'Where Men Win Glory: The Odyssey of Pat Tillman', 'The Help', 'The Pillars of the Earth (The Kingsbridge Series, #1)', 'Bridge of Sighs', 'Freedom', 'Little Bee', 'Midnight in the Garden of Good and Evil', 'The Postmistress', \"In the Garden of Beasts: Love, Terror, and an American Family in Hitler's Berlin\", 'The Immortal Life of Henrietta Lacks', '11/22/63', 'A Game of Thrones (A Song of Ice and Fire, #1)', 'A Clash of Kings  (A Song of Ice and Fire, #2)', 'A Storm of Swords (A Song of Ice and Fire, #3)', 'The Hunger Games (The Hunger Games, #1)', 'A Feast for Crows (A Song of Ice and Fire, #4)', 'A Dance with Dragons (A Song of Ice and Fire, #5)', 'Catching Fire (The Hunger Games, #2)', 'Mockingjay (The Hunger Games, #3)', 'Cutting for Stone', 'Rules of Civility', 'The Dovekeepers', 'Bossypants', 'The Chaperone', 'The Book Thief', \"The Tiger's Wife\", 'Gone Girl', 'Friday Night Lights: A Town, a Team, and a Dream', 'The Boston Girl', 'Everything I Never Told You', 'All the Light We Cannot See', 'Dead Wake: The Last Crossing of the Lusitania', 'Missoula: Rape and the Justice System in a College Town', 'Orphan Train', 'Me Before You (Me Before You, #1)', 'In the Woods (Dublin Murder Squad, #1)', 'Unbroken: A World War II Story of Survival, Resilience, and Redemption', 'The Martian', 'The Dinner', 'In a Dark, Dark Wood', 'Behind the Beautiful Forevers: Life, Death, and Hope in a Mumbai Undercity', 'The Girl on the Train']\n"
     ]
    },
    {
     "data": {
      "text/html": [
       "<div>\n",
       "<style scoped>\n",
       "    .dataframe tbody tr th:only-of-type {\n",
       "        vertical-align: middle;\n",
       "    }\n",
       "\n",
       "    .dataframe tbody tr th {\n",
       "        vertical-align: top;\n",
       "    }\n",
       "\n",
       "    .dataframe thead th {\n",
       "        text-align: right;\n",
       "    }\n",
       "</style>\n",
       "<table border=\"1\" class=\"dataframe\">\n",
       "  <thead>\n",
       "    <tr style=\"text-align: right;\">\n",
       "      <th></th>\n",
       "      <th>book_name</th>\n",
       "      <th>score</th>\n",
       "    </tr>\n",
       "  </thead>\n",
       "  <tbody>\n",
       "    <tr>\n",
       "      <th>737</th>\n",
       "      <td>A Long Way Gone: Memoirs of a Boy Soldier</td>\n",
       "      <td>1.277437</td>\n",
       "    </tr>\n",
       "    <tr>\n",
       "      <th>301</th>\n",
       "      <td>Heart of Darkness</td>\n",
       "      <td>1.256303</td>\n",
       "    </tr>\n",
       "    <tr>\n",
       "      <th>1552</th>\n",
       "      <td>The Killer Angels (The Civil War Trilogy, #2)</td>\n",
       "      <td>1.212703</td>\n",
       "    </tr>\n",
       "    <tr>\n",
       "      <th>357</th>\n",
       "      <td>All Quiet on the Western Front</td>\n",
       "      <td>1.200518</td>\n",
       "    </tr>\n",
       "    <tr>\n",
       "      <th>688</th>\n",
       "      <td>Under the Banner of Heaven: A Story of Violent...</td>\n",
       "      <td>1.193962</td>\n",
       "    </tr>\n",
       "    <tr>\n",
       "      <th>387</th>\n",
       "      <td>The Crucible</td>\n",
       "      <td>1.186809</td>\n",
       "    </tr>\n",
       "    <tr>\n",
       "      <th>217</th>\n",
       "      <td>The Devil in the White City: Murder, Magic, an...</td>\n",
       "      <td>1.173642</td>\n",
       "    </tr>\n",
       "    <tr>\n",
       "      <th>87</th>\n",
       "      <td>Night (The Night Trilogy #1)</td>\n",
       "      <td>1.172897</td>\n",
       "    </tr>\n",
       "    <tr>\n",
       "      <th>264</th>\n",
       "      <td>The Sun Also Rises</td>\n",
       "      <td>1.164089</td>\n",
       "    </tr>\n",
       "  </tbody>\n",
       "</table>\n",
       "</div>"
      ],
      "text/plain": [
       "                                              book_name     score\n",
       "737           A Long Way Gone: Memoirs of a Boy Soldier  1.277437\n",
       "301                                   Heart of Darkness  1.256303\n",
       "1552      The Killer Angels (The Civil War Trilogy, #2)  1.212703\n",
       "357                      All Quiet on the Western Front  1.200518\n",
       "688   Under the Banner of Heaven: A Story of Violent...  1.193962\n",
       "387                                        The Crucible  1.186809\n",
       "217   The Devil in the White City: Murder, Magic, an...  1.173642\n",
       "87                         Night (The Night Trilogy #1)  1.172897\n",
       "264                                  The Sun Also Rises  1.164089"
      ]
     },
     "execution_count": 64,
     "metadata": {},
     "output_type": "execute_result"
    }
   ],
   "source": [
    "get_top_n_recom_for_user_als(256,10)"
   ]
  },
  {
   "cell_type": "markdown",
   "metadata": {},
   "source": [
    "## Adding weights for recency"
   ]
  },
  {
   "cell_type": "code",
   "execution_count": 65,
   "metadata": {},
   "outputs": [],
   "source": [
    "book_ratings['row_number'] = book_ratings.index"
   ]
  },
  {
   "cell_type": "code",
   "execution_count": 66,
   "metadata": {},
   "outputs": [],
   "source": [
    "book_ratings['book_recency_rank'] = book_ratings.groupby(['user_id']).row_number.rank(pct=False)"
   ]
  },
  {
   "cell_type": "code",
   "execution_count": null,
   "metadata": {},
   "outputs": [],
   "source": [
    "total_books_per_user = book_ratings.groupby(['user_id']).book_recency_rank.max().reset_index()"
   ]
  },
  {
   "cell_type": "code",
   "execution_count": null,
   "metadata": {},
   "outputs": [],
   "source": [
    "total_books_per_user = total_books_per_user.rename(columns={'book_recency_rank':'total_books'})"
   ]
  },
  {
   "cell_type": "code",
   "execution_count": null,
   "metadata": {},
   "outputs": [],
   "source": [
    "book_ratings_final = book_ratings.merge(total_books_per_user, on=['user_id'], how='inner')"
   ]
  },
  {
   "cell_type": "code",
   "execution_count": null,
   "metadata": {},
   "outputs": [],
   "source": [
    "book_ratings_final = book_ratings_final.drop('row_number', axis=1)"
   ]
  },
  {
   "cell_type": "code",
   "execution_count": null,
   "metadata": {},
   "outputs": [],
   "source": [
    "import matplotlib.pyplot as plt"
   ]
  },
  {
   "cell_type": "code",
   "execution_count": null,
   "metadata": {},
   "outputs": [],
   "source": [
    "plt.hist(total_books_per_user['total_books'], bins=50)"
   ]
  }
 ],
 "metadata": {
  "kernelspec": {
   "display_name": "Python 3",
   "language": "python",
   "name": "python3"
  },
  "language_info": {
   "codemirror_mode": {
    "name": "ipython",
    "version": 3
   },
   "file_extension": ".py",
   "mimetype": "text/x-python",
   "name": "python",
   "nbconvert_exporter": "python",
   "pygments_lexer": "ipython3",
   "version": "3.6.7"
  }
 },
 "nbformat": 4,
 "nbformat_minor": 2
}
